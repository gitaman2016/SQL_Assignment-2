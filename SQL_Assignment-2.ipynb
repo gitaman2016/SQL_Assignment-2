{
 "cells": [
  {
   "cell_type": "raw",
   "id": "6dd0dc51",
   "metadata": {},
   "source": [
    "Q-1. Write an SQL query to print the first three characters of  FIRST_NAME from Worker table.\n",
    "Ans:SELECT FIRST_NAME FROM Worker table Limit 3;"
   ]
  },
  {
   "cell_type": "raw",
   "id": "4e5eb7e2",
   "metadata": {},
   "source": [
    "Q-2. Write an SQL query to find the position of the alphabet (‘a’) in the first name column ‘Amitabh’ from Worker table.\n",
    "Ans:Select charindex('a','Amitabh') from worker \n"
   ]
  },
  {
   "cell_type": "raw",
   "id": "116ed741",
   "metadata": {},
   "source": [
    "Q-3. Write an SQL query to print the name of employees having the highest salary in each department.\n",
    "Ans: select max(salary) from employees group by Department;"
   ]
  }
 ],
 "metadata": {
  "kernelspec": {
   "display_name": "Python 3",
   "language": "python",
   "name": "python3"
  },
  "language_info": {
   "codemirror_mode": {
    "name": "ipython",
    "version": 3
   },
   "file_extension": ".py",
   "mimetype": "text/x-python",
   "name": "python",
   "nbconvert_exporter": "python",
   "pygments_lexer": "ipython3",
   "version": "3.8.8"
  }
 },
 "nbformat": 4,
 "nbformat_minor": 5
}
